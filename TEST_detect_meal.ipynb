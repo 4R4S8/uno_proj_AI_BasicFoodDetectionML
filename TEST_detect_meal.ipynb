{
 "cells": [
  {
   "cell_type": "code",
   "execution_count": 1,
   "metadata": {},
   "outputs": [],
   "source": [
    "import cv2\n",
    "from joblib import load\n",
    "import glob\n",
    "import numpy as np"
   ]
  },
  {
   "cell_type": "code",
   "execution_count": null,
   "metadata": {},
   "outputs": [],
   "source": [
    "clf = load(\"detectFlower.z\")\n",
    "\n",
    "for item in glob.glob('test\\\\*'):\n",
    "    img = cv2.imread(item)\n",
    "    img_r = cv2.resize(img,(32,32))\n",
    "    img_r = img_r / 255\n",
    "    img_r = img_r.flatten()\n",
    "    img_r = np.array([img_r])\n",
    "    \n",
    "    label = clf.predict(img_r)[0]\n",
    "    cv2.putText(img,label,(20,20),cv2.FONT_HERSHEY_PLAIN,2,(255,25,255),2)\n",
    "    \n",
    "    cv2.imshow(\"pic\",img)\n",
    "    cv2.waitKey(0)"
   ]
  }
 ],
 "metadata": {
  "kernelspec": {
   "display_name": "Python 3",
   "language": "python",
   "name": "python3"
  },
  "language_info": {
   "codemirror_mode": {
    "name": "ipython",
    "version": 3
   },
   "file_extension": ".py",
   "mimetype": "text/x-python",
   "name": "python",
   "nbconvert_exporter": "python",
   "pygments_lexer": "ipython3",
   "version": "3.12.3"
  }
 },
 "nbformat": 4,
 "nbformat_minor": 2
}
